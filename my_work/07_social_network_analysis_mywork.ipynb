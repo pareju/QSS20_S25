{
 "cells": [
  {
   "cell_type": "code",
   "execution_count": 28,
   "id": "f9dccb42",
   "metadata": {},
   "outputs": [],
   "source": [
    "import networkx as nx\n",
    "import pandas as pd\n",
    "import matplotlib.pyplot as plt\n",
    "import urllib, json\n",
    "import numpy as np\n",
    "\n",
    "from nltk.sentiment.vader import SentimentIntensityAnalyzer\n",
    "\n",
    "from IPython.core.interactiveshell import InteractiveShell\n",
    "InteractiveShell.ast_node_interactivity = \"all\""
   ]
  },
  {
   "cell_type": "code",
   "execution_count": 2,
   "id": "5310a55b-1b96-4f14-99e1-3ddd094b2c41",
   "metadata": {},
   "outputs": [
    {
     "name": "stdout",
     "output_type": "stream",
     "text": [
      "Collecting networkx\n",
      "  Downloading networkx-3.4.2-py3-none-any.whl.metadata (6.3 kB)\n",
      "Downloading networkx-3.4.2-py3-none-any.whl (1.7 MB)\n",
      "   ---------------------------------------- 0.0/1.7 MB ? eta -:--:--\n",
      "   ---------------------------------------- 1.7/1.7 MB 12.9 MB/s eta 0:00:00\n",
      "Installing collected packages: networkx\n",
      "Successfully installed networkx-3.4.2\n"
     ]
    }
   ],
   "source": [
    "!pip install networkx"
   ]
  },
  {
   "cell_type": "markdown",
   "id": "9230028c",
   "metadata": {},
   "source": [
    "# Introduction to Networkx"
   ]
  },
  {
   "cell_type": "markdown",
   "id": "9aa993eb",
   "metadata": {},
   "source": [
    "The simple methods '.nodes()' and '.edges()' print the key components of the network."
   ]
  },
  {
   "cell_type": "code",
   "execution_count": 4,
   "id": "f1a0982f",
   "metadata": {},
   "outputs": [
    {
     "data": {
      "text/plain": [
       "NodeView((0, 1, 2, 3, 4))"
      ]
     },
     "execution_count": 4,
     "metadata": {},
     "output_type": "execute_result"
    },
    {
     "data": {
      "text/plain": [
       "EdgeView([(0, 1), (0, 2), (1, 3), (2, 3), (2, 4), (3, 4)])"
      ]
     },
     "execution_count": 4,
     "metadata": {},
     "output_type": "execute_result"
    }
   ],
   "source": [
    "HG = nx.house_graph()\n",
    "HG.nodes()\n",
    "HG.edges()"
   ]
  },
  {
   "cell_type": "markdown",
   "id": "fe9a84fd",
   "metadata": {},
   "source": [
    "## Drawing the network"
   ]
  },
  {
   "cell_type": "markdown",
   "id": "3dffdb17",
   "metadata": {},
   "source": [
    "To draw the network, we need to give it a dictionary that maps each node to an X-Y coordinate. I give one below."
   ]
  },
  {
   "cell_type": "code",
   "execution_count": 5,
   "id": "198ba806",
   "metadata": {},
   "outputs": [
    {
     "data": {
      "text/plain": [
       "<matplotlib.collections.PathCollection at 0x143ac207b60>"
      ]
     },
     "execution_count": 5,
     "metadata": {},
     "output_type": "execute_result"
    },
    {
     "data": {
      "text/plain": [
       "<matplotlib.collections.PathCollection at 0x143ac1bfc50>"
      ]
     },
     "execution_count": 5,
     "metadata": {},
     "output_type": "execute_result"
    },
    {
     "data": {
      "text/plain": [
       "<matplotlib.collections.LineCollection at 0x143ac2646e0>"
      ]
     },
     "execution_count": 5,
     "metadata": {},
     "output_type": "execute_result"
    },
    {
     "data": {
      "text/plain": [
       "{0: Text(0, 0, '0'),\n",
       " 1: Text(1, 0, '1'),\n",
       " 2: Text(0, 1, '2'),\n",
       " 3: Text(1, 1, '3'),\n",
       " 4: Text(0.5, 2.0, '4')}"
      ]
     },
     "execution_count": 5,
     "metadata": {},
     "output_type": "execute_result"
    },
    {
     "data": {
      "text/plain": [
       "(np.float64(-0.10500000000000001),\n",
       " np.float64(1.105),\n",
       " np.float64(-0.21000000000000002),\n",
       " np.float64(2.21))"
      ]
     },
     "execution_count": 5,
     "metadata": {},
     "output_type": "execute_result"
    },
    {
     "data": {
      "image/png": "[encoded data removed]",
      "text/plain": [
       "<Figure size 640x480 with 1 Axes>"
      ]
     },
     "metadata": {},
     "output_type": "display_data"
    }
   ],
   "source": [
    "pos = {0: (0, 0), 1: (1, 0), 2: (0, 1), 3: (1, 1), 4: (0.5, 2.0)}\n",
    "\n",
    "nx.draw_networkx_nodes(\n",
    "    HG, pos, node_size=3000, nodelist=[0, 1, 2, 3], \n",
    "    node_color=\"tab:blue\"\n",
    ")\n",
    "\n",
    "nx.draw_networkx_nodes(HG, pos, node_size=2000, \n",
    "                       nodelist=[4], node_color=\"tab:orange\")\n",
    "\n",
    "nx.draw_networkx_edges(HG, pos, alpha=1, width=6)\n",
    "nx.draw_networkx_labels(HG, pos, font_size=20)\n",
    "plt.tight_layout()\n",
    "plt.axis(\"off\")"
   ]
  },
  {
   "cell_type": "code",
   "execution_count": 7,
   "id": "445ad55f",
   "metadata": {},
   "outputs": [
    {
     "data": {
      "text/html": [
       "<div>\n",
       "<style scoped>\n",
       "    .dataframe tbody tr th:only-of-type {\n",
       "        vertical-align: middle;\n",
       "    }\n",
       "\n",
       "    .dataframe tbody tr th {\n",
       "        vertical-align: top;\n",
       "    }\n",
       "\n",
       "    .dataframe thead th {\n",
       "        text-align: right;\n",
       "    }\n",
       "</style>\n",
       "<table border=\"1\" class=\"dataframe\">\n",
       "  <thead>\n",
       "    <tr style=\"text-align: right;\">\n",
       "      <th></th>\n",
       "      <th>0</th>\n",
       "      <th>1</th>\n",
       "      <th>2</th>\n",
       "      <th>3</th>\n",
       "      <th>4</th>\n",
       "    </tr>\n",
       "  </thead>\n",
       "  <tbody>\n",
       "    <tr>\n",
       "      <th>0</th>\n",
       "      <td>False</td>\n",
       "      <td>True</td>\n",
       "      <td>True</td>\n",
       "      <td>False</td>\n",
       "      <td>False</td>\n",
       "    </tr>\n",
       "    <tr>\n",
       "      <th>1</th>\n",
       "      <td>True</td>\n",
       "      <td>False</td>\n",
       "      <td>False</td>\n",
       "      <td>True</td>\n",
       "      <td>False</td>\n",
       "    </tr>\n",
       "    <tr>\n",
       "      <th>2</th>\n",
       "      <td>True</td>\n",
       "      <td>False</td>\n",
       "      <td>False</td>\n",
       "      <td>True</td>\n",
       "      <td>True</td>\n",
       "    </tr>\n",
       "    <tr>\n",
       "      <th>3</th>\n",
       "      <td>False</td>\n",
       "      <td>True</td>\n",
       "      <td>True</td>\n",
       "      <td>False</td>\n",
       "      <td>True</td>\n",
       "    </tr>\n",
       "    <tr>\n",
       "      <th>4</th>\n",
       "      <td>False</td>\n",
       "      <td>False</td>\n",
       "      <td>True</td>\n",
       "      <td>True</td>\n",
       "      <td>False</td>\n",
       "    </tr>\n",
       "  </tbody>\n",
       "</table>\n",
       "</div>"
      ],
      "text/plain": [
       "       0      1      2      3      4\n",
       "0  False   True   True  False  False\n",
       "1   True  False  False   True  False\n",
       "2   True  False  False   True   True\n",
       "3  False   True   True  False   True\n",
       "4  False  False   True   True  False"
      ]
     },
     "execution_count": 7,
     "metadata": {},
     "output_type": "execute_result"
    }
   ],
   "source": [
    "ADJ = nx.to_pandas_adjacency(HG)\n",
    "ADJ = ADJ.astype(bool)\n",
    "ADJ"
   ]
  },
  {
   "cell_type": "code",
   "execution_count": 8,
   "id": "2b853dee",
   "metadata": {},
   "outputs": [
    {
     "data": {
      "text/plain": [
       "2"
      ]
     },
     "execution_count": 8,
     "metadata": {},
     "output_type": "execute_result"
    }
   ],
   "source": [
    "deg_0 = nx.degree(HG, 0) \n",
    "deg_0"
   ]
  },
  {
   "cell_type": "markdown",
   "id": "6b3391fe",
   "metadata": {},
   "source": [
    "# Activity\n",
    "We will learn how to process a dataframe into a useable edgelist to feed into a graph."
   ]
  },
  {
   "cell_type": "code",
   "execution_count": 10,
   "id": "b115acf7",
   "metadata": {},
   "outputs": [
    {
     "data": {
      "text/html": [
       "<div>\n",
       "<style scoped>\n",
       "    .dataframe tbody tr th:only-of-type {\n",
       "        vertical-align: middle;\n",
       "    }\n",
       "\n",
       "    .dataframe tbody tr th {\n",
       "        vertical-align: top;\n",
       "    }\n",
       "\n",
       "    .dataframe thead th {\n",
       "        text-align: right;\n",
       "    }\n",
       "</style>\n",
       "<table border=\"1\" class=\"dataframe\">\n",
       "  <thead>\n",
       "    <tr style=\"text-align: right;\">\n",
       "      <th></th>\n",
       "      <th>tweetid</th>\n",
       "      <th>userid</th>\n",
       "      <th>date</th>\n",
       "      <th>lang</th>\n",
       "      <th>text</th>\n",
       "      <th>tweet_type</th>\n",
       "      <th>friends_count</th>\n",
       "      <th>followers_count</th>\n",
       "      <th>statuses_count</th>\n",
       "      <th>mentionid</th>\n",
       "      <th>rt_userid</th>\n",
       "      <th>rt_tweetid</th>\n",
       "      <th>qtd_userid</th>\n",
       "      <th>qtd_text</th>\n",
       "      <th>qtd_tweetid</th>\n",
       "    </tr>\n",
       "  </thead>\n",
       "  <tbody>\n",
       "    <tr>\n",
       "      <th>12221</th>\n",
       "      <td>1221208309728006145</td>\n",
       "      <td>418859255</td>\n",
       "      <td>Sat Jan 25 23:08:44 +0000 2020</td>\n",
       "      <td>en</td>\n",
       "      <td>RT @DepSecHargan: Every year in the US, 34,800...</td>\n",
       "      <td>retweeted_tweet_without_comment</td>\n",
       "      <td>638</td>\n",
       "      <td>1837</td>\n",
       "      <td>17778</td>\n",
       "      <td>[920035992073064450]</td>\n",
       "      <td>9.200360e+17</td>\n",
       "      <td>1.221208e+18</td>\n",
       "      <td>NaN</td>\n",
       "      <td>NaN</td>\n",
       "      <td>NaN</td>\n",
       "    </tr>\n",
       "    <tr>\n",
       "      <th>28315</th>\n",
       "      <td>1221213073652043776</td>\n",
       "      <td>14499829</td>\n",
       "      <td>Sat Jan 25 23:27:40 +0000 2020</td>\n",
       "      <td>en</td>\n",
       "      <td>WHO’s risk assessment of the new #coronavirus ...</td>\n",
       "      <td>original</td>\n",
       "      <td>1743</td>\n",
       "      <td>5196950</td>\n",
       "      <td>46697</td>\n",
       "      <td>[]</td>\n",
       "      <td>NaN</td>\n",
       "      <td>NaN</td>\n",
       "      <td>NaN</td>\n",
       "      <td>NaN</td>\n",
       "      <td>NaN</td>\n",
       "    </tr>\n",
       "    <tr>\n",
       "      <th>6092</th>\n",
       "      <td>1222281847163576321</td>\n",
       "      <td>1135486501</td>\n",
       "      <td>Tue Jan 28 22:14:35 +0000 2020</td>\n",
       "      <td>en</td>\n",
       "      <td>#FYI: 50 million are under travel restrictions...</td>\n",
       "      <td>original</td>\n",
       "      <td>950</td>\n",
       "      <td>27025</td>\n",
       "      <td>11145</td>\n",
       "      <td>[9624742]</td>\n",
       "      <td>NaN</td>\n",
       "      <td>NaN</td>\n",
       "      <td>NaN</td>\n",
       "      <td>NaN</td>\n",
       "      <td>NaN</td>\n",
       "    </tr>\n",
       "    <tr>\n",
       "      <th>13618</th>\n",
       "      <td>1222289121118511104</td>\n",
       "      <td>117793973</td>\n",
       "      <td>Tue Jan 28 22:43:30 +0000 2020</td>\n",
       "      <td>en</td>\n",
       "      <td>What should I do if I have traveled to China a...</td>\n",
       "      <td>original</td>\n",
       "      <td>1236</td>\n",
       "      <td>5860</td>\n",
       "      <td>4578</td>\n",
       "      <td>[]</td>\n",
       "      <td>NaN</td>\n",
       "      <td>NaN</td>\n",
       "      <td>NaN</td>\n",
       "      <td>NaN</td>\n",
       "      <td>NaN</td>\n",
       "    </tr>\n",
       "    <tr>\n",
       "      <th>19205</th>\n",
       "      <td>1222285279047843843</td>\n",
       "      <td>1465196934</td>\n",
       "      <td>Tue Jan 28 22:28:14 +0000 2020</td>\n",
       "      <td>en</td>\n",
       "      <td>Disease outbreaks can result in misinformation...</td>\n",
       "      <td>original</td>\n",
       "      <td>1946</td>\n",
       "      <td>3581</td>\n",
       "      <td>4636</td>\n",
       "      <td>[]</td>\n",
       "      <td>NaN</td>\n",
       "      <td>NaN</td>\n",
       "      <td>NaN</td>\n",
       "      <td>NaN</td>\n",
       "      <td>NaN</td>\n",
       "    </tr>\n",
       "  </tbody>\n",
       "</table>\n",
       "</div>"
      ],
      "text/plain": [
       "                   tweetid      userid                            date lang  \\\n",
       "12221  1221208309728006145   418859255  Sat Jan 25 23:08:44 +0000 2020   en   \n",
       "28315  1221213073652043776    14499829  Sat Jan 25 23:27:40 +0000 2020   en   \n",
       "6092   1222281847163576321  1135486501  Tue Jan 28 22:14:35 +0000 2020   en   \n",
       "13618  1222289121118511104   117793973  Tue Jan 28 22:43:30 +0000 2020   en   \n",
       "19205  1222285279047843843  1465196934  Tue Jan 28 22:28:14 +0000 2020   en   \n",
       "\n",
       "                                                    text  \\\n",
       "12221  RT @DepSecHargan: Every year in the US, 34,800...   \n",
       "28315  WHO’s risk assessment of the new #coronavirus ...   \n",
       "6092   #FYI: 50 million are under travel restrictions...   \n",
       "13618  What should I do if I have traveled to China a...   \n",
       "19205  Disease outbreaks can result in misinformation...   \n",
       "\n",
       "                            tweet_type  friends_count  followers_count  \\\n",
       "12221  retweeted_tweet_without_comment            638             1837   \n",
       "28315                         original           1743          5196950   \n",
       "6092                          original            950            27025   \n",
       "13618                         original           1236             5860   \n",
       "19205                         original           1946             3581   \n",
       "\n",
       "       statuses_count             mentionid     rt_userid    rt_tweetid  \\\n",
       "12221           17778  [920035992073064450]  9.200360e+17  1.221208e+18   \n",
       "28315           46697                    []           NaN           NaN   \n",
       "6092            11145             [9624742]           NaN           NaN   \n",
       "13618            4578                    []           NaN           NaN   \n",
       "19205            4636                    []           NaN           NaN   \n",
       "\n",
       "       qtd_userid qtd_text  qtd_tweetid  \n",
       "12221         NaN      NaN          NaN  \n",
       "28315         NaN      NaN          NaN  \n",
       "6092          NaN      NaN          NaN  \n",
       "13618         NaN      NaN          NaN  \n",
       "19205         NaN      NaN          NaN  "
      ]
     },
     "execution_count": 10,
     "metadata": {},
     "output_type": "execute_result"
    },
    {
     "data": {
      "text/plain": [
       "(59887, 15)"
      ]
     },
     "execution_count": 10,
     "metadata": {},
     "output_type": "execute_result"
    }
   ],
   "source": [
    "df = pd.read_pickle(\"../public_data/Raw_Tweets.pkl\") # Load your tweets\n",
    "df.head()\n",
    "df.shape"
   ]
  },
  {
   "cell_type": "markdown",
   "id": "b2c00d31",
   "metadata": {},
   "source": [
    "### 1.1 Subset the dataframe to network data"
   ]
  },
  {
   "cell_type": "markdown",
   "id": "9ae1063e",
   "metadata": {},
   "source": [
    "- First, using .value_counts(), identify how many types of tweets there are, using the tweet_type column. \n",
    "- Then, filter out all tweets that are not \"retweeted_tweet_without_comment\" and \"quoted_tweet.\""
   ]
  },
  {
   "cell_type": "code",
   "execution_count": 20,
   "id": "93cfd44d",
   "metadata": {},
   "outputs": [],
   "source": [
    "# your code here\n",
    "#df.tweet_type.value_counts()\n",
    "df = df[(df.tweet_type == 'retweeted_tweet_without_comment') | (df.tweet_type == 'quoted_tweet')]"
   ]
  },
  {
   "cell_type": "code",
   "execution_count": 21,
   "id": "1fd37826",
   "metadata": {},
   "outputs": [
    {
     "data": {
      "text/html": [
       "<div>\n",
       "<style scoped>\n",
       "    .dataframe tbody tr th:only-of-type {\n",
       "        vertical-align: middle;\n",
       "    }\n",
       "\n",
       "    .dataframe tbody tr th {\n",
       "        vertical-align: top;\n",
       "    }\n",
       "\n",
       "    .dataframe thead th {\n",
       "        text-align: right;\n",
       "    }\n",
       "</style>\n",
       "<table border=\"1\" class=\"dataframe\">\n",
       "  <thead>\n",
       "    <tr style=\"text-align: right;\">\n",
       "      <th></th>\n",
       "      <th>tweetid</th>\n",
       "      <th>userid</th>\n",
       "      <th>date</th>\n",
       "      <th>lang</th>\n",
       "      <th>text</th>\n",
       "      <th>tweet_type</th>\n",
       "      <th>friends_count</th>\n",
       "      <th>followers_count</th>\n",
       "      <th>statuses_count</th>\n",
       "      <th>mentionid</th>\n",
       "      <th>rt_userid</th>\n",
       "      <th>rt_tweetid</th>\n",
       "      <th>qtd_userid</th>\n",
       "      <th>qtd_text</th>\n",
       "      <th>qtd_tweetid</th>\n",
       "    </tr>\n",
       "  </thead>\n",
       "  <tbody>\n",
       "  </tbody>\n",
       "</table>\n",
       "</div>"
      ],
      "text/plain": [
       "Empty DataFrame\n",
       "Columns: [tweetid, userid, date, lang, text, tweet_type, friends_count, followers_count, statuses_count, mentionid, rt_userid, rt_tweetid, qtd_userid, qtd_text, qtd_tweetid]\n",
       "Index: []"
      ]
     },
     "execution_count": 21,
     "metadata": {},
     "output_type": "execute_result"
    }
   ],
   "source": [
    "## Run this. Why is it empty?\n",
    "df[(df.tweet_type == \"retweeted_tweet_without_comment\") & (df.tweet_type == \"quoted_tweet\")]"
   ]
  },
  {
   "cell_type": "markdown",
   "id": "367b250f",
   "metadata": {},
   "source": [
    "### 1.2 Create an edgelist"
   ]
  },
  {
   "cell_type": "markdown",
   "id": "7dc711c3",
   "metadata": {},
   "source": [
    "The \"userid\" column shows the person that did the retweeting. Create a new column called \"userid2\" that denotes the user retweeted. You will need to use the columns \"rt_userid\" and \"qtd_userid.\""
   ]
  },
  {
   "cell_type": "code",
   "execution_count": 29,
   "id": "88b11d33",
   "metadata": {},
   "outputs": [],
   "source": [
    "df['userid2'] = np.where(df['rt_userid'].notna(),\n",
    "                        df['rt_userid'],\n",
    "                        np.where(df['qtd_userid'].notna(),\n",
    "                                 df['qtd_userid'],\n",
    "                                 None))\n",
    "\n"
   ]
  },
  {
   "cell_type": "markdown",
   "id": "e4e3694e",
   "metadata": {},
   "source": [
    "### 1.3 Sentiment scoring. \n",
    "- Now, use SentimentIntensityAnalyzer to label the sentiment of the text, in a new column called \"weight.\" \n",
    "- The subset the dataframe to only have \"userid\", \"user2\", and \"weight\". \n",
    "- Rename \"userid\" to \"user1\", then group by \"user1\" and \"user2\", to find the mean sentiment (mean weight).\n",
    "\n",
    "You now have your first edgelist!"
   ]
  },
  {
   "cell_type": "code",
   "execution_count": 45,
   "id": "d9fb8c1b-84da-4170-8796-b9284f9cefcf",
   "metadata": {},
   "outputs": [],
   "source": [
    "import nltk"
   ]
  },
  {
   "cell_type": "code",
   "execution_count": 46,
   "id": "9b8a82f1-408e-4544-b5dd-584979ab537d",
   "metadata": {},
   "outputs": [
    {
     "name": "stderr",
     "output_type": "stream",
     "text": [
      "[nltk_data] Downloading package vader_lexicon to\n",
      "[nltk_data]     C:\\Users\\Justin\\AppData\\Roaming\\nltk_data...\n"
     ]
    },
    {
     "data": {
      "text/plain": [
       "True"
      ]
     },
     "execution_count": 46,
     "metadata": {},
     "output_type": "execute_result"
    }
   ],
   "source": [
    "nltk.download(\"vader_lexicon\")"
   ]
  },
  {
   "cell_type": "code",
   "execution_count": 48,
   "id": "4d57e73c",
   "metadata": {},
   "outputs": [
    {
     "data": {
      "text/plain": [
       "{'neg': 0.0, 'neu': 1.0, 'pos': 0.0, 'compound': 0.0}"
      ]
     },
     "execution_count": 48,
     "metadata": {},
     "output_type": "execute_result"
    }
   ],
   "source": [
    "S = SentimentIntensityAnalyzer()\n",
    "S.polarity_scores(\"sample text for labeling\")"
   ]
  },
  {
   "cell_type": "code",
   "execution_count": null,
   "id": "1b2eb7d6",
   "metadata": {},
   "outputs": [],
   "source": []
  },
  {
   "cell_type": "markdown",
   "id": "9f7c38d7",
   "metadata": {},
   "source": [
    "# Netwulf Visualization\n",
    "#### If you don't have the module, pip install netwulf\n",
    "#### https://netwulf.readthedocs.io/en/latest/about.html"
   ]
  },
  {
   "cell_type": "code",
   "execution_count": 32,
   "id": "30b7b100-fc8d-4fc8-ac5a-2dec7f3e0864",
   "metadata": {},
   "outputs": [
    {
     "name": "stdout",
     "output_type": "stream",
     "text": [
      "Collecting netwulf\n",
      "  Downloading netwulf-0.1.5.tar.gz (236 kB)\n",
      "  Preparing metadata (setup.py): started\n",
      "  Preparing metadata (setup.py): finished with status 'done'\n",
      "Requirement already satisfied: networkx>=2.0 in c:\\users\\justin\\anaconda3\\envs\\qss_20_python\\lib\\site-packages (from netwulf) (3.4.2)\n",
      "Requirement already satisfied: numpy>=0.14 in c:\\users\\justin\\anaconda3\\envs\\qss_20_python\\lib\\site-packages (from netwulf) (2.2.4)\n",
      "Requirement already satisfied: matplotlib>=3.0 in c:\\users\\justin\\anaconda3\\envs\\qss_20_python\\lib\\site-packages (from netwulf) (3.10.1)\n",
      "Collecting simplejson>=3.0 (from netwulf)\n",
      "  Downloading simplejson-3.20.1-cp313-cp313-win_amd64.whl.metadata (3.4 kB)\n",
      "Requirement already satisfied: contourpy>=1.0.1 in c:\\users\\justin\\anaconda3\\envs\\qss_20_python\\lib\\site-packages (from matplotlib>=3.0->netwulf) (1.3.1)\n",
      "Requirement already satisfied: cycler>=0.10 in c:\\users\\justin\\anaconda3\\envs\\qss_20_python\\lib\\site-packages (from matplotlib>=3.0->netwulf) (0.12.1)\n",
      "Requirement already satisfied: fonttools>=4.22.0 in c:\\users\\justin\\anaconda3\\envs\\qss_20_python\\lib\\site-packages (from matplotlib>=3.0->netwulf) (4.56.0)\n",
      "Requirement already satisfied: kiwisolver>=1.3.1 in c:\\users\\justin\\anaconda3\\envs\\qss_20_python\\lib\\site-packages (from matplotlib>=3.0->netwulf) (1.4.8)\n",
      "Requirement already satisfied: packaging>=20.0 in c:\\users\\justin\\anaconda3\\envs\\qss_20_python\\lib\\site-packages (from matplotlib>=3.0->netwulf) (24.2)\n",
      "Requirement already satisfied: pillow>=8 in c:\\users\\justin\\anaconda3\\envs\\qss_20_python\\lib\\site-packages (from matplotlib>=3.0->netwulf) (11.2.0)\n",
      "Requirement already satisfied: pyparsing>=2.3.1 in c:\\users\\justin\\anaconda3\\envs\\qss_20_python\\lib\\site-packages (from matplotlib>=3.0->netwulf) (3.2.3)\n",
      "Requirement already satisfied: python-dateutil>=2.7 in c:\\users\\justin\\anaconda3\\envs\\qss_20_python\\lib\\site-packages (from matplotlib>=3.0->netwulf) (2.9.0.post0)\n",
      "Requirement already satisfied: six>=1.5 in c:\\users\\justin\\anaconda3\\envs\\qss_20_python\\lib\\site-packages (from python-dateutil>=2.7->matplotlib>=3.0->netwulf) (1.16.0)\n",
      "Downloading simplejson-3.20.1-cp313-cp313-win_amd64.whl (75 kB)\n",
      "Building wheels for collected packages: netwulf\n",
      "  Building wheel for netwulf (setup.py): started\n",
      "  Building wheel for netwulf (setup.py): finished with status 'done'\n",
      "  Created wheel for netwulf: filename=netwulf-0.1.5-py3-none-any.whl size=238080 sha256=ef9d556c2033a399c36fd3b4ddd2dcb01c3f4518b76db636606e2a803b83659e\n",
      "  Stored in directory: c:\\users\\justin\\appdata\\local\\pip\\cache\\wheels\\92\\f6\\e2\\67af6930ec9e8b9d5f7f729567235079f1586bb336f722ce6e\n",
      "Successfully built netwulf\n",
      "Installing collected packages: simplejson, netwulf\n",
      "Successfully installed netwulf-0.1.5 simplejson-3.20.1\n"
     ]
    }
   ],
   "source": [
    "!pip install netwulf"
   ]
  },
  {
   "cell_type": "code",
   "execution_count": 33,
   "id": "2d0a6db2",
   "metadata": {},
   "outputs": [],
   "source": [
    "EL =  pd.read_pickle(\"../public_data/edge_list_final2.pkl\")"
   ]
  },
  {
   "cell_type": "code",
   "execution_count": 34,
   "id": "9d94ecab",
   "metadata": {},
   "outputs": [
    {
     "data": {
      "text/plain": [
       "array([[ 426033838,  146569971],\n",
       "       [ 418859255,  146569971],\n",
       "       [ 418859255,  146569971],\n",
       "       ...,\n",
       "       [2953974395,    5558312],\n",
       "       [2953974395, 1209417007],\n",
       "       [  18023868,   23711785]], shape=(15819, 2))"
      ]
     },
     "execution_count": 34,
     "metadata": {},
     "output_type": "execute_result"
    }
   ],
   "source": [
    "EL[[\"user1\",\"user2\"]].values"
   ]
  },
  {
   "cell_type": "code",
   "execution_count": 40,
   "id": "e01466f1",
   "metadata": {},
   "outputs": [],
   "source": [
    "G = nx.Graph() # Creates a graph object\n",
    "G.add_edges_from( EL[[\"user1\",\"user2\"]].values ) # Adds edges (and hence nodes from the edgelist)\n",
    "\n",
    "# Creates the biggest subgraph\n",
    "CC_nodes = list( nx.connected_components(G) )[0] # Generates a list of connected components, extracts the largest\n",
    "GG = nx.subgraph(G, CC_nodes) # Creates the subgraph of the largest CC"
   ]
  },
  {
   "cell_type": "code",
   "execution_count": 36,
   "id": "762d832d",
   "metadata": {},
   "outputs": [],
   "source": [
    "from netwulf import visualize\n",
    "import netwulf as nw"
   ]
  },
  {
   "cell_type": "code",
   "execution_count": 37,
   "id": "541ffd86",
   "metadata": {},
   "outputs": [
    {
     "name": "stderr",
     "output_type": "stream",
     "text": [
      "C:\\Users\\Justin\\anaconda3\\envs\\QSS_20_python\\Lib\\site-packages\\networkx\\readwrite\\json_graph\\node_link.py:142: FutureWarning: \n",
      "The default value will be `edges=\"edges\" in NetworkX 3.6.\n",
      "\n",
      "To make this warning go away, explicitly set the edges kwarg, e.g.:\n",
      "\n",
      "  nx.node_link_data(G, edges=\"links\") to preserve current behavior, or\n",
      "  nx.node_link_data(G, edges=\"edges\") for forward compatibility.\n",
      "  warnings.warn(\n"
     ]
    }
   ],
   "source": [
    "stylized_network, config = visualize(GG,)"
   ]
  },
  {
   "cell_type": "code",
   "execution_count": 41,
   "id": "3eae7d29",
   "metadata": {},
   "outputs": [],
   "source": [
    "U = pd.read_pickle(\"../public_data/UserInfo.pkl\")\n",
    "id2color = dict(zip(U.userid.values, U.PlotColor.values))\n",
    "for k, v in GG.nodes(data=True):\n",
    "    v[\"group\"] = id2color[k]"
   ]
  },
  {
   "cell_type": "code",
   "execution_count": null,
   "id": "545178d7",
   "metadata": {},
   "outputs": [],
   "source": [
    "# [n[\"group\"] for n in GG.nodes(data=True)]"
   ]
  },
  {
   "cell_type": "code",
   "execution_count": 42,
   "id": "b8281bae",
   "metadata": {},
   "outputs": [
    {
     "data": {
      "text/plain": [
       "{'group': 'gold'}"
      ]
     },
     "execution_count": 42,
     "metadata": {},
     "output_type": "execute_result"
    }
   ],
   "source": [
    "GG.nodes()[426033838]"
   ]
  },
  {
   "cell_type": "code",
   "execution_count": 43,
   "id": "5758d096",
   "metadata": {},
   "outputs": [
    {
     "name": "stderr",
     "output_type": "stream",
     "text": [
      "C:\\Users\\Justin\\anaconda3\\envs\\QSS_20_python\\Lib\\site-packages\\networkx\\readwrite\\json_graph\\node_link.py:142: FutureWarning: \n",
      "The default value will be `edges=\"edges\" in NetworkX 3.6.\n",
      "\n",
      "To make this warning go away, explicitly set the edges kwarg, e.g.:\n",
      "\n",
      "  nx.node_link_data(G, edges=\"links\") to preserve current behavior, or\n",
      "  nx.node_link_data(G, edges=\"edges\") for forward compatibility.\n",
      "  warnings.warn(\n"
     ]
    }
   ],
   "source": [
    "stylized_network, config = visualize(GG,port=2000)"
   ]
  },
  {
   "cell_type": "markdown",
   "id": "95a7feed",
   "metadata": {},
   "source": [
    "### Activity Two\n",
    "- Create a new column in U called \"Degree,\" which denotes the degree of the node (userid). You will want to use G.degree()[n] where n is the userid.\n",
    "- Group by User Type. Which group was the most popular during the pandemic?"
   ]
  },
  {
   "cell_type": "code",
   "execution_count": null,
   "id": "eedbd25e",
   "metadata": {},
   "outputs": [],
   "source": [
    "# your code here."
   ]
  },
  {
   "cell_type": "code",
   "execution_count": null,
   "id": "e9062520",
   "metadata": {},
   "outputs": [],
   "source": []
  }
 ],
 "metadata": {
  "kernelspec": {
   "display_name": "Python 3 (ipykernel)",
   "language": "python",
   "name": "python3"
  },
  "language_info": {
   "codemirror_mode": {
    "name": "ipython",
    "version": 3
   },
   "file_extension": ".py",
   "mimetype": "text/x-python",
   "name": "python",
   "nbconvert_exporter": "python",
   "pygments_lexer": "ipython3",
   "version": "3.13.2"
  }
 },
 "nbformat": 4,
 "nbformat_minor": 5
}
